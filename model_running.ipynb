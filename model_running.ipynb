{
 "cells": [
  {
   "cell_type": "code",
   "execution_count": 62,
   "metadata": {},
   "outputs": [],
   "source": [
    "import torch\n",
    "from torchvision import transforms\n",
    "from PIL import Image"
   ]
  },
  {
   "cell_type": "code",
   "execution_count": 63,
   "metadata": {},
   "outputs": [],
   "source": [
    "device = torch.device(\"cuda\" if torch.cuda.is_available() else \"cpu\")"
   ]
  },
  {
   "cell_type": "code",
   "execution_count": 64,
   "metadata": {},
   "outputs": [
    {
     "data": {
      "text/plain": [
       "EfficientFormer(\n",
       "  (patch_embed): Sequential(\n",
       "    (0): Conv2d(3, 24, kernel_size=(3, 3), stride=(2, 2), padding=(1, 1))\n",
       "    (1): SyncBatchNorm(24, eps=1e-05, momentum=0.1, affine=True, track_running_stats=True)\n",
       "    (2): ReLU()\n",
       "    (3): Conv2d(24, 48, kernel_size=(3, 3), stride=(2, 2), padding=(1, 1))\n",
       "    (4): SyncBatchNorm(48, eps=1e-05, momentum=0.1, affine=True, track_running_stats=True)\n",
       "    (5): ReLU()\n",
       "  )\n",
       "  (network): ModuleList(\n",
       "    (0): Sequential(\n",
       "      (0): Meta4D(\n",
       "        (token_mixer): Pooling(\n",
       "          (pool): AvgPool2d(kernel_size=3, stride=1, padding=1)\n",
       "        )\n",
       "        (mlp): Mlp(\n",
       "          (fc1): Conv2d(48, 192, kernel_size=(1, 1), stride=(1, 1))\n",
       "          (act): GELU(approximate='none')\n",
       "          (fc2): Conv2d(192, 48, kernel_size=(1, 1), stride=(1, 1))\n",
       "          (drop): Dropout(p=0.0, inplace=False)\n",
       "          (norm1): SyncBatchNorm(192, eps=1e-05, momentum=0.1, affine=True, track_running_stats=True)\n",
       "          (norm2): SyncBatchNorm(48, eps=1e-05, momentum=0.1, affine=True, track_running_stats=True)\n",
       "        )\n",
       "        (drop_path): Identity()\n",
       "      )\n",
       "      (1): Meta4D(\n",
       "        (token_mixer): Pooling(\n",
       "          (pool): AvgPool2d(kernel_size=3, stride=1, padding=1)\n",
       "        )\n",
       "        (mlp): Mlp(\n",
       "          (fc1): Conv2d(48, 192, kernel_size=(1, 1), stride=(1, 1))\n",
       "          (act): GELU(approximate='none')\n",
       "          (fc2): Conv2d(192, 48, kernel_size=(1, 1), stride=(1, 1))\n",
       "          (drop): Dropout(p=0.0, inplace=False)\n",
       "          (norm1): SyncBatchNorm(192, eps=1e-05, momentum=0.1, affine=True, track_running_stats=True)\n",
       "          (norm2): SyncBatchNorm(48, eps=1e-05, momentum=0.1, affine=True, track_running_stats=True)\n",
       "        )\n",
       "        (drop_path): Identity()\n",
       "      )\n",
       "      (2): Meta4D(\n",
       "        (token_mixer): Pooling(\n",
       "          (pool): AvgPool2d(kernel_size=3, stride=1, padding=1)\n",
       "        )\n",
       "        (mlp): Mlp(\n",
       "          (fc1): Conv2d(48, 192, kernel_size=(1, 1), stride=(1, 1))\n",
       "          (act): GELU(approximate='none')\n",
       "          (fc2): Conv2d(192, 48, kernel_size=(1, 1), stride=(1, 1))\n",
       "          (drop): Dropout(p=0.0, inplace=False)\n",
       "          (norm1): SyncBatchNorm(192, eps=1e-05, momentum=0.1, affine=True, track_running_stats=True)\n",
       "          (norm2): SyncBatchNorm(48, eps=1e-05, momentum=0.1, affine=True, track_running_stats=True)\n",
       "        )\n",
       "        (drop_path): Identity()\n",
       "      )\n",
       "    )\n",
       "    (1): Embedding(\n",
       "      (proj): Conv2d(48, 96, kernel_size=(3, 3), stride=(2, 2), padding=(1, 1))\n",
       "      (norm): SyncBatchNorm(96, eps=1e-05, momentum=0.1, affine=True, track_running_stats=True)\n",
       "    )\n",
       "    (2): Sequential(\n",
       "      (0): Meta4D(\n",
       "        (token_mixer): Pooling(\n",
       "          (pool): AvgPool2d(kernel_size=3, stride=1, padding=1)\n",
       "        )\n",
       "        (mlp): Mlp(\n",
       "          (fc1): Conv2d(96, 384, kernel_size=(1, 1), stride=(1, 1))\n",
       "          (act): GELU(approximate='none')\n",
       "          (fc2): Conv2d(384, 96, kernel_size=(1, 1), stride=(1, 1))\n",
       "          (drop): Dropout(p=0.0, inplace=False)\n",
       "          (norm1): SyncBatchNorm(384, eps=1e-05, momentum=0.1, affine=True, track_running_stats=True)\n",
       "          (norm2): SyncBatchNorm(96, eps=1e-05, momentum=0.1, affine=True, track_running_stats=True)\n",
       "        )\n",
       "        (drop_path): Identity()\n",
       "      )\n",
       "      (1): Meta4D(\n",
       "        (token_mixer): Pooling(\n",
       "          (pool): AvgPool2d(kernel_size=3, stride=1, padding=1)\n",
       "        )\n",
       "        (mlp): Mlp(\n",
       "          (fc1): Conv2d(96, 384, kernel_size=(1, 1), stride=(1, 1))\n",
       "          (act): GELU(approximate='none')\n",
       "          (fc2): Conv2d(384, 96, kernel_size=(1, 1), stride=(1, 1))\n",
       "          (drop): Dropout(p=0.0, inplace=False)\n",
       "          (norm1): SyncBatchNorm(384, eps=1e-05, momentum=0.1, affine=True, track_running_stats=True)\n",
       "          (norm2): SyncBatchNorm(96, eps=1e-05, momentum=0.1, affine=True, track_running_stats=True)\n",
       "        )\n",
       "        (drop_path): Identity()\n",
       "      )\n",
       "    )\n",
       "    (3): Embedding(\n",
       "      (proj): Conv2d(96, 224, kernel_size=(3, 3), stride=(2, 2), padding=(1, 1))\n",
       "      (norm): SyncBatchNorm(224, eps=1e-05, momentum=0.1, affine=True, track_running_stats=True)\n",
       "    )\n",
       "    (4): Sequential(\n",
       "      (0): Meta4D(\n",
       "        (token_mixer): Pooling(\n",
       "          (pool): AvgPool2d(kernel_size=3, stride=1, padding=1)\n",
       "        )\n",
       "        (mlp): Mlp(\n",
       "          (fc1): Conv2d(224, 896, kernel_size=(1, 1), stride=(1, 1))\n",
       "          (act): GELU(approximate='none')\n",
       "          (fc2): Conv2d(896, 224, kernel_size=(1, 1), stride=(1, 1))\n",
       "          (drop): Dropout(p=0.0, inplace=False)\n",
       "          (norm1): SyncBatchNorm(896, eps=1e-05, momentum=0.1, affine=True, track_running_stats=True)\n",
       "          (norm2): SyncBatchNorm(224, eps=1e-05, momentum=0.1, affine=True, track_running_stats=True)\n",
       "        )\n",
       "        (drop_path): Identity()\n",
       "      )\n",
       "      (1): Meta4D(\n",
       "        (token_mixer): Pooling(\n",
       "          (pool): AvgPool2d(kernel_size=3, stride=1, padding=1)\n",
       "        )\n",
       "        (mlp): Mlp(\n",
       "          (fc1): Conv2d(224, 896, kernel_size=(1, 1), stride=(1, 1))\n",
       "          (act): GELU(approximate='none')\n",
       "          (fc2): Conv2d(896, 224, kernel_size=(1, 1), stride=(1, 1))\n",
       "          (drop): Dropout(p=0.0, inplace=False)\n",
       "          (norm1): SyncBatchNorm(896, eps=1e-05, momentum=0.1, affine=True, track_running_stats=True)\n",
       "          (norm2): SyncBatchNorm(224, eps=1e-05, momentum=0.1, affine=True, track_running_stats=True)\n",
       "        )\n",
       "        (drop_path): Identity()\n",
       "      )\n",
       "      (2): Meta4D(\n",
       "        (token_mixer): Pooling(\n",
       "          (pool): AvgPool2d(kernel_size=3, stride=1, padding=1)\n",
       "        )\n",
       "        (mlp): Mlp(\n",
       "          (fc1): Conv2d(224, 896, kernel_size=(1, 1), stride=(1, 1))\n",
       "          (act): GELU(approximate='none')\n",
       "          (fc2): Conv2d(896, 224, kernel_size=(1, 1), stride=(1, 1))\n",
       "          (drop): Dropout(p=0.0, inplace=False)\n",
       "          (norm1): SyncBatchNorm(896, eps=1e-05, momentum=0.1, affine=True, track_running_stats=True)\n",
       "          (norm2): SyncBatchNorm(224, eps=1e-05, momentum=0.1, affine=True, track_running_stats=True)\n",
       "        )\n",
       "        (drop_path): Identity()\n",
       "      )\n",
       "      (3): Meta4D(\n",
       "        (token_mixer): Pooling(\n",
       "          (pool): AvgPool2d(kernel_size=3, stride=1, padding=1)\n",
       "        )\n",
       "        (mlp): Mlp(\n",
       "          (fc1): Conv2d(224, 896, kernel_size=(1, 1), stride=(1, 1))\n",
       "          (act): GELU(approximate='none')\n",
       "          (fc2): Conv2d(896, 224, kernel_size=(1, 1), stride=(1, 1))\n",
       "          (drop): Dropout(p=0.0, inplace=False)\n",
       "          (norm1): SyncBatchNorm(896, eps=1e-05, momentum=0.1, affine=True, track_running_stats=True)\n",
       "          (norm2): SyncBatchNorm(224, eps=1e-05, momentum=0.1, affine=True, track_running_stats=True)\n",
       "        )\n",
       "        (drop_path): Identity()\n",
       "      )\n",
       "      (4): Meta4D(\n",
       "        (token_mixer): Pooling(\n",
       "          (pool): AvgPool2d(kernel_size=3, stride=1, padding=1)\n",
       "        )\n",
       "        (mlp): Mlp(\n",
       "          (fc1): Conv2d(224, 896, kernel_size=(1, 1), stride=(1, 1))\n",
       "          (act): GELU(approximate='none')\n",
       "          (fc2): Conv2d(896, 224, kernel_size=(1, 1), stride=(1, 1))\n",
       "          (drop): Dropout(p=0.0, inplace=False)\n",
       "          (norm1): SyncBatchNorm(896, eps=1e-05, momentum=0.1, affine=True, track_running_stats=True)\n",
       "          (norm2): SyncBatchNorm(224, eps=1e-05, momentum=0.1, affine=True, track_running_stats=True)\n",
       "        )\n",
       "        (drop_path): Identity()\n",
       "      )\n",
       "      (5): Meta4D(\n",
       "        (token_mixer): Pooling(\n",
       "          (pool): AvgPool2d(kernel_size=3, stride=1, padding=1)\n",
       "        )\n",
       "        (mlp): Mlp(\n",
       "          (fc1): Conv2d(224, 896, kernel_size=(1, 1), stride=(1, 1))\n",
       "          (act): GELU(approximate='none')\n",
       "          (fc2): Conv2d(896, 224, kernel_size=(1, 1), stride=(1, 1))\n",
       "          (drop): Dropout(p=0.0, inplace=False)\n",
       "          (norm1): SyncBatchNorm(896, eps=1e-05, momentum=0.1, affine=True, track_running_stats=True)\n",
       "          (norm2): SyncBatchNorm(224, eps=1e-05, momentum=0.1, affine=True, track_running_stats=True)\n",
       "        )\n",
       "        (drop_path): Identity()\n",
       "      )\n",
       "    )\n",
       "    (5): Embedding(\n",
       "      (proj): Conv2d(224, 448, kernel_size=(3, 3), stride=(2, 2), padding=(1, 1))\n",
       "      (norm): SyncBatchNorm(448, eps=1e-05, momentum=0.1, affine=True, track_running_stats=True)\n",
       "    )\n",
       "    (6): Sequential(\n",
       "      (0): Meta4D(\n",
       "        (token_mixer): Pooling(\n",
       "          (pool): AvgPool2d(kernel_size=3, stride=1, padding=1)\n",
       "        )\n",
       "        (mlp): Mlp(\n",
       "          (fc1): Conv2d(448, 1792, kernel_size=(1, 1), stride=(1, 1))\n",
       "          (act): GELU(approximate='none')\n",
       "          (fc2): Conv2d(1792, 448, kernel_size=(1, 1), stride=(1, 1))\n",
       "          (drop): Dropout(p=0.0, inplace=False)\n",
       "          (norm1): SyncBatchNorm(1792, eps=1e-05, momentum=0.1, affine=True, track_running_stats=True)\n",
       "          (norm2): SyncBatchNorm(448, eps=1e-05, momentum=0.1, affine=True, track_running_stats=True)\n",
       "        )\n",
       "        (drop_path): Identity()\n",
       "      )\n",
       "      (1): Meta4D(\n",
       "        (token_mixer): Pooling(\n",
       "          (pool): AvgPool2d(kernel_size=3, stride=1, padding=1)\n",
       "        )\n",
       "        (mlp): Mlp(\n",
       "          (fc1): Conv2d(448, 1792, kernel_size=(1, 1), stride=(1, 1))\n",
       "          (act): GELU(approximate='none')\n",
       "          (fc2): Conv2d(1792, 448, kernel_size=(1, 1), stride=(1, 1))\n",
       "          (drop): Dropout(p=0.0, inplace=False)\n",
       "          (norm1): SyncBatchNorm(1792, eps=1e-05, momentum=0.1, affine=True, track_running_stats=True)\n",
       "          (norm2): SyncBatchNorm(448, eps=1e-05, momentum=0.1, affine=True, track_running_stats=True)\n",
       "        )\n",
       "        (drop_path): Identity()\n",
       "      )\n",
       "      (2): Meta4D(\n",
       "        (token_mixer): Pooling(\n",
       "          (pool): AvgPool2d(kernel_size=3, stride=1, padding=1)\n",
       "        )\n",
       "        (mlp): Mlp(\n",
       "          (fc1): Conv2d(448, 1792, kernel_size=(1, 1), stride=(1, 1))\n",
       "          (act): GELU(approximate='none')\n",
       "          (fc2): Conv2d(1792, 448, kernel_size=(1, 1), stride=(1, 1))\n",
       "          (drop): Dropout(p=0.0, inplace=False)\n",
       "          (norm1): SyncBatchNorm(1792, eps=1e-05, momentum=0.1, affine=True, track_running_stats=True)\n",
       "          (norm2): SyncBatchNorm(448, eps=1e-05, momentum=0.1, affine=True, track_running_stats=True)\n",
       "        )\n",
       "        (drop_path): Identity()\n",
       "      )\n",
       "      (3): Flat()\n",
       "      (4): Meta3D(\n",
       "        (norm1): LayerNorm((448,), eps=1e-05, elementwise_affine=True)\n",
       "        (token_mixer): Attention(\n",
       "          (qkv): Linear(in_features=448, out_features=1536, bias=True)\n",
       "          (proj): Linear(in_features=1024, out_features=448, bias=True)\n",
       "        )\n",
       "        (norm2): LayerNorm((448,), eps=1e-05, elementwise_affine=True)\n",
       "        (mlp): LinearMlp(\n",
       "          (fc1): Linear(in_features=448, out_features=1792, bias=True)\n",
       "          (act): GELU(approximate='none')\n",
       "          (drop1): Dropout(p=0.0, inplace=False)\n",
       "          (fc2): Linear(in_features=1792, out_features=448, bias=True)\n",
       "          (drop2): Dropout(p=0.0, inplace=False)\n",
       "        )\n",
       "        (drop_path): Identity()\n",
       "      )\n",
       "    )\n",
       "  )\n",
       "  (norm): LayerNorm((448,), eps=1e-05, elementwise_affine=True)\n",
       "  (head): Linear(in_features=448, out_features=3, bias=True)\n",
       ")"
      ]
     },
     "execution_count": 64,
     "metadata": {},
     "output_type": "execute_result"
    }
   ],
   "source": [
    "Efficientformer_model = torch.load('new_model/model.pth')\n",
    "Efficientformer_model.to(device)"
   ]
  },
  {
   "cell_type": "code",
   "execution_count": 65,
   "metadata": {},
   "outputs": [
    {
     "data": {
      "image/png": "[encoded data removed]",
      "text/plain": [
       "<PIL.JpegImagePlugin.JpegImageFile image mode=RGB size=303x166 at 0x7FB93A906620>"
      ]
     },
     "execution_count": 65,
     "metadata": {},
     "output_type": "execute_result"
    }
   ],
   "source": [
    "image = Image.open('teja/salmandar_animated.jpeg')\n",
    "image"
   ]
  },
  {
   "cell_type": "code",
   "execution_count": 66,
   "metadata": {},
   "outputs": [
    {
     "name": "stdout",
     "output_type": "stream",
     "text": [
      "346\n"
     ]
    }
   ],
   "source": [
    "width, height = image.size\n",
    "size = int((256 / 224) * width)\n",
    "print(size)"
   ]
  },
  {
   "cell_type": "code",
   "execution_count": 67,
   "metadata": {},
   "outputs": [],
   "source": [
    "\n",
    "transform = transforms.Compose([\n",
    "    transforms.Resize((224, 224)),\n",
    "    transforms.ToTensor(),\n",
    "    transforms.Normalize(mean=[0.485, 0.456, 0.406], std=[0.229, 0.224, 0.225]),\n",
    "])\n"
   ]
  },
  {
   "cell_type": "code",
   "execution_count": 68,
   "metadata": {},
   "outputs": [],
   "source": [
    "input_image = transform(image).unsqueeze(0).to(device)"
   ]
  },
  {
   "cell_type": "code",
   "execution_count": 69,
   "metadata": {},
   "outputs": [
    {
     "data": {
      "text/plain": [
       "torch.Size([1, 3, 224, 224])"
      ]
     },
     "execution_count": 69,
     "metadata": {},
     "output_type": "execute_result"
    }
   ],
   "source": [
    "input_image.size()"
   ]
  },
  {
   "cell_type": "code",
   "execution_count": 70,
   "metadata": {},
   "outputs": [],
   "source": [
    "with torch.no_grad():\n",
    "    output = Efficientformer_model(input_image)"
   ]
  },
  {
   "cell_type": "code",
   "execution_count": 71,
   "metadata": {},
   "outputs": [
    {
     "data": {
      "text/plain": [
       "torch.Size([1, 3, 224, 224])"
      ]
     },
     "execution_count": 71,
     "metadata": {},
     "output_type": "execute_result"
    }
   ],
   "source": [
    "input_image.shape"
   ]
  },
  {
   "cell_type": "code",
   "execution_count": 72,
   "metadata": {},
   "outputs": [
    {
     "data": {
      "text/plain": [
       "tensor([[ 1.5429, -0.1390, -0.2823]], device='cuda:0')"
      ]
     },
     "execution_count": 72,
     "metadata": {},
     "output_type": "execute_result"
    }
   ],
   "source": [
    "output"
   ]
  },
  {
   "cell_type": "code",
   "execution_count": 73,
   "metadata": {},
   "outputs": [
    {
     "name": "stdout",
     "output_type": "stream",
     "text": [
      "hook, claw\n"
     ]
    }
   ],
   "source": [
    "from transformers import AutoImageProcessor, MobileNetV2ForImageClassification\n",
    "image_processor = AutoImageProcessor.from_pretrained(\"google/mobilenet_v2_1.0_224\")\n",
    "model = MobileNetV2ForImageClassification.from_pretrained(\"google/mobilenet_v2_1.0_224\")\n",
    "inputs = image_processor(image, return_tensors=\"pt\")\n",
    "\n",
    "with torch.no_grad():\n",
    "    logits = model(**inputs).logits\n",
    "predicted_label = logits.argmax(-1).item()\n",
    "print(model.config.id2label[predicted_label])"
   ]
  },
  {
   "cell_type": "code",
   "execution_count": null,
   "metadata": {},
   "outputs": [],
   "source": []
  }
 ],
 "metadata": {
  "kernelspec": {
   "display_name": "Python 3.10.12 64-bit",
   "language": "python",
   "name": "python3"
  },
  "language_info": {
   "codemirror_mode": {
    "name": "ipython",
    "version": 3
   },
   "file_extension": ".py",
   "mimetype": "text/x-python",
   "name": "python",
   "nbconvert_exporter": "python",
   "pygments_lexer": "ipython3",
   "version": "3.10.12"
  },
  "orig_nbformat": 4,
  "vscode": {
   "interpreter": {
    "hash": "916dbcbb3f70747c44a77c7bcd40155683ae19c65e1c03b4aa3499c5328201f1"
   }
  }
 },
 "nbformat": 4,
 "nbformat_minor": 2
}
